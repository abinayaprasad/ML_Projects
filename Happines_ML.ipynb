{
 "cells": [
  {
   "cell_type": "code",
   "execution_count": 1,
   "id": "bd62b7c7",
   "metadata": {},
   "outputs": [],
   "source": [
    "# importing all necessary packages/Libraries:\n",
    "import warnings \n",
    "warnings.simplefilter('ignore')\n",
    "import pickle\n",
    "import joblib\n",
    "import numpy as np\n",
    "import pandas as pd\n",
    "import seaborn as sns\n",
    "import matplotlib.pyplot as plt\n",
    "%matplotlib inline\n",
    "from math import sqrt\n",
    "from pandas_profiling import ProfileReport\n",
    "import scipy.stats as stats\n",
    "from scipy.stats import zscore\n",
    "\n",
    "from sklearn.preprocessing import PowerTransformer\n",
    "from sklearn.model_selection import train_test_split\n",
    "from sklearn.linear_model import LinearRegression\n",
    "from sklearn.svm import SVR\n",
    "from sklearn.tree import DecisionTreeRegressor\n",
    "from sklearn.ensemble import RandomForestRegressor\n",
    "from sklearn.neighbors import KNeighborsRegressor\n",
    "\n",
    "from sklearn.metrics import r2_score\n",
    "from sklearn.metrics import mean_squared_error\n",
    "from sklearn.model_selection import cross_val_score\n",
    "from sklearn.model_selection import RandomizedSearchCV\n"
   ]
  },
  {
   "cell_type": "code",
   "execution_count": 2,
   "id": "e4925206",
   "metadata": {},
   "outputs": [],
   "source": [
    "# Now we can read the File by using pandas liberabry:\n",
    "df_score=pd.read_csv(\"Happines_Score.csv\")"
   ]
  },
  {
   "cell_type": "code",
   "execution_count": 3,
   "id": "9b5468ce",
   "metadata": {},
   "outputs": [
    {
     "data": {
      "text/html": [
       "<div>\n",
       "<style scoped>\n",
       "    .dataframe tbody tr th:only-of-type {\n",
       "        vertical-align: middle;\n",
       "    }\n",
       "\n",
       "    .dataframe tbody tr th {\n",
       "        vertical-align: top;\n",
       "    }\n",
       "\n",
       "    .dataframe thead th {\n",
       "        text-align: right;\n",
       "    }\n",
       "</style>\n",
       "<table border=\"1\" class=\"dataframe\">\n",
       "  <thead>\n",
       "    <tr style=\"text-align: right;\">\n",
       "      <th></th>\n",
       "      <th>Country</th>\n",
       "      <th>Region</th>\n",
       "      <th>Happiness Rank</th>\n",
       "      <th>Happiness Score</th>\n",
       "      <th>Standard Error</th>\n",
       "      <th>Economy (GDP per Capita)</th>\n",
       "      <th>Family</th>\n",
       "      <th>Health (Life Expectancy)</th>\n",
       "      <th>Freedom</th>\n",
       "      <th>Trust (Government Corruption)</th>\n",
       "      <th>Generosity</th>\n",
       "      <th>Dystopia Residual</th>\n",
       "    </tr>\n",
       "  </thead>\n",
       "  <tbody>\n",
       "    <tr>\n",
       "      <th>0</th>\n",
       "      <td>Switzerland</td>\n",
       "      <td>Western Europe</td>\n",
       "      <td>1</td>\n",
       "      <td>7.587</td>\n",
       "      <td>0.03411</td>\n",
       "      <td>1.39651</td>\n",
       "      <td>1.34951</td>\n",
       "      <td>0.94143</td>\n",
       "      <td>0.66557</td>\n",
       "      <td>0.41978</td>\n",
       "      <td>0.29678</td>\n",
       "      <td>2.51738</td>\n",
       "    </tr>\n",
       "    <tr>\n",
       "      <th>1</th>\n",
       "      <td>Iceland</td>\n",
       "      <td>Western Europe</td>\n",
       "      <td>2</td>\n",
       "      <td>7.561</td>\n",
       "      <td>0.04884</td>\n",
       "      <td>1.30232</td>\n",
       "      <td>1.40223</td>\n",
       "      <td>0.94784</td>\n",
       "      <td>0.62877</td>\n",
       "      <td>0.14145</td>\n",
       "      <td>0.43630</td>\n",
       "      <td>2.70201</td>\n",
       "    </tr>\n",
       "    <tr>\n",
       "      <th>2</th>\n",
       "      <td>Denmark</td>\n",
       "      <td>Western Europe</td>\n",
       "      <td>3</td>\n",
       "      <td>7.527</td>\n",
       "      <td>0.03328</td>\n",
       "      <td>1.32548</td>\n",
       "      <td>1.36058</td>\n",
       "      <td>0.87464</td>\n",
       "      <td>0.64938</td>\n",
       "      <td>0.48357</td>\n",
       "      <td>0.34139</td>\n",
       "      <td>2.49204</td>\n",
       "    </tr>\n",
       "    <tr>\n",
       "      <th>3</th>\n",
       "      <td>Norway</td>\n",
       "      <td>Western Europe</td>\n",
       "      <td>4</td>\n",
       "      <td>7.522</td>\n",
       "      <td>0.03880</td>\n",
       "      <td>1.45900</td>\n",
       "      <td>1.33095</td>\n",
       "      <td>0.88521</td>\n",
       "      <td>0.66973</td>\n",
       "      <td>0.36503</td>\n",
       "      <td>0.34699</td>\n",
       "      <td>2.46531</td>\n",
       "    </tr>\n",
       "    <tr>\n",
       "      <th>4</th>\n",
       "      <td>Canada</td>\n",
       "      <td>North America</td>\n",
       "      <td>5</td>\n",
       "      <td>7.427</td>\n",
       "      <td>0.03553</td>\n",
       "      <td>1.32629</td>\n",
       "      <td>1.32261</td>\n",
       "      <td>0.90563</td>\n",
       "      <td>0.63297</td>\n",
       "      <td>0.32957</td>\n",
       "      <td>0.45811</td>\n",
       "      <td>2.45176</td>\n",
       "    </tr>\n",
       "  </tbody>\n",
       "</table>\n",
       "</div>"
      ],
      "text/plain": [
       "       Country          Region  Happiness Rank  Happiness Score  \\\n",
       "0  Switzerland  Western Europe               1            7.587   \n",
       "1      Iceland  Western Europe               2            7.561   \n",
       "2      Denmark  Western Europe               3            7.527   \n",
       "3       Norway  Western Europe               4            7.522   \n",
       "4       Canada   North America               5            7.427   \n",
       "\n",
       "   Standard Error  Economy (GDP per Capita)   Family  \\\n",
       "0         0.03411                   1.39651  1.34951   \n",
       "1         0.04884                   1.30232  1.40223   \n",
       "2         0.03328                   1.32548  1.36058   \n",
       "3         0.03880                   1.45900  1.33095   \n",
       "4         0.03553                   1.32629  1.32261   \n",
       "\n",
       "   Health (Life Expectancy)  Freedom  Trust (Government Corruption)  \\\n",
       "0                   0.94143  0.66557                        0.41978   \n",
       "1                   0.94784  0.62877                        0.14145   \n",
       "2                   0.87464  0.64938                        0.48357   \n",
       "3                   0.88521  0.66973                        0.36503   \n",
       "4                   0.90563  0.63297                        0.32957   \n",
       "\n",
       "   Generosity  Dystopia Residual  \n",
       "0     0.29678            2.51738  \n",
       "1     0.43630            2.70201  \n",
       "2     0.34139            2.49204  \n",
       "3     0.34699            2.46531  \n",
       "4     0.45811            2.45176  "
      ]
     },
     "execution_count": 3,
     "metadata": {},
     "output_type": "execute_result"
    }
   ],
   "source": [
    "df_score.head()"
   ]
  },
  {
   "cell_type": "markdown",
   "id": "c0ca8f2c",
   "metadata": {},
   "source": [
    "Here the target label is Happiness score and rest of the columns is the features that will be contributing towards the label prediction.\n",
    "\n",
    "However I find the categorical columns useless and the Happiness Rank is just a list of numbers so they do not seem to be playing any important role in the Happiness Score evaluation. We will analyze further to see if my hunch is indeed correct and we will drop any column that prove to be not contributing towards the label prediction.\n",
    "\n",
    "Since our label is a continous data this is going to be a Regression problem!"
   ]
  },
  {
   "cell_type": "code",
   "execution_count": 4,
   "id": "e8137455",
   "metadata": {},
   "outputs": [
    {
     "data": {
      "text/plain": [
       "Index(['Country', 'Region', 'Happiness Rank', 'Happiness Score',\n",
       "       'Standard Error', 'Economy (GDP per Capita)', 'Family',\n",
       "       'Health (Life Expectancy)', 'Freedom', 'Trust (Government Corruption)',\n",
       "       'Generosity', 'Dystopia Residual'],\n",
       "      dtype='object')"
      ]
     },
     "execution_count": 4,
     "metadata": {},
     "output_type": "execute_result"
    }
   ],
   "source": [
    "df_score.columns"
   ]
  },
  {
   "cell_type": "raw",
   "id": "61e9511a",
   "metadata": {},
   "source": [
    "Here in this Dataset the Output Column/Label/Dependant Variable is \"Happiness Score\" and rest of the columns are input columns or independent variables.\n",
    "1.Country:\n",
    "    this has list of countries\n",
    "2. Regions:\n",
    "    This has list of regions/places where these countries avilabe.\n",
    "3. Happiness Rank:\n",
    "    This has list of ranks given to each country based on the happiness Score.\n",
    "4. Happiness Score:\n",
    "    The scores are based on answers to the main life evaluation question asked in the poll. This question, known as the Cantril ladder, asks respondents to think of a ladder with the best possible life for them being a 10 and the worst possible life being a 0 and to rate their own current lives on that scale.\n",
    "5. Standard Error:\n",
    "    The residuals, or unexplained components, differ for each country, reflecting the extent to which the six variables either over- or under-explain average life evaluations. These residuals have an average value of approximately zero over the whole set of countries.\n",
    "6.\n",
    "    \n",
    "    "
   ]
  },
  {
   "cell_type": "code",
   "execution_count": 5,
   "id": "4236298d",
   "metadata": {},
   "outputs": [
    {
     "data": {
      "text/plain": [
       "(158, 12)"
      ]
     },
     "execution_count": 5,
     "metadata": {},
     "output_type": "execute_result"
    }
   ],
   "source": [
    "df_score.shape"
   ]
  },
  {
   "cell_type": "markdown",
   "id": "e48db9fc",
   "metadata": {},
   "source": [
    "This shows the total number of rows is 158  and 12 columns  ."
   ]
  },
  {
   "cell_type": "code",
   "execution_count": 6,
   "id": "2a8a00f5",
   "metadata": {},
   "outputs": [
    {
     "data": {
      "text/plain": [
       "Country                          0\n",
       "Region                           0\n",
       "Happiness Rank                   0\n",
       "Happiness Score                  0\n",
       "Standard Error                   0\n",
       "Economy (GDP per Capita)         0\n",
       "Family                           0\n",
       "Health (Life Expectancy)         0\n",
       "Freedom                          0\n",
       "Trust (Government Corruption)    0\n",
       "Generosity                       0\n",
       "Dystopia Residual                0\n",
       "dtype: int64"
      ]
     },
     "execution_count": 6,
     "metadata": {},
     "output_type": "execute_result"
    }
   ],
   "source": [
    "df_score.isnull().sum()"
   ]
  },
  {
   "cell_type": "markdown",
   "id": "e3dbe0b7",
   "metadata": {},
   "source": [
    "This shows that no columns in the given dataset has null values."
   ]
  },
  {
   "cell_type": "code",
   "execution_count": 7,
   "id": "64119986",
   "metadata": {},
   "outputs": [
    {
     "name": "stdout",
     "output_type": "stream",
     "text": [
      "<class 'pandas.core.frame.DataFrame'>\n",
      "RangeIndex: 158 entries, 0 to 157\n",
      "Data columns (total 12 columns):\n",
      " #   Column                         Non-Null Count  Dtype  \n",
      "---  ------                         --------------  -----  \n",
      " 0   Country                        158 non-null    object \n",
      " 1   Region                         158 non-null    object \n",
      " 2   Happiness Rank                 158 non-null    int64  \n",
      " 3   Happiness Score                158 non-null    float64\n",
      " 4   Standard Error                 158 non-null    float64\n",
      " 5   Economy (GDP per Capita)       158 non-null    float64\n",
      " 6   Family                         158 non-null    float64\n",
      " 7   Health (Life Expectancy)       158 non-null    float64\n",
      " 8   Freedom                        158 non-null    float64\n",
      " 9   Trust (Government Corruption)  158 non-null    float64\n",
      " 10  Generosity                     158 non-null    float64\n",
      " 11  Dystopia Residual              158 non-null    float64\n",
      "dtypes: float64(9), int64(1), object(2)\n",
      "memory usage: 14.9+ KB\n"
     ]
    }
   ],
   "source": [
    "df_score.info()"
   ]
  },
  {
   "cell_type": "markdown",
   "id": "a4f66df4",
   "metadata": {},
   "source": [
    "Here the columns Country and Region are catogrical values that can be converted to the numerical values but we no need to consider this in skewness."
   ]
  },
  {
   "cell_type": "code",
   "execution_count": 8,
   "id": "ed75939f",
   "metadata": {},
   "outputs": [
    {
     "data": {
      "text/html": [
       "<div>\n",
       "<style scoped>\n",
       "    .dataframe tbody tr th:only-of-type {\n",
       "        vertical-align: middle;\n",
       "    }\n",
       "\n",
       "    .dataframe tbody tr th {\n",
       "        vertical-align: top;\n",
       "    }\n",
       "\n",
       "    .dataframe thead th {\n",
       "        text-align: right;\n",
       "    }\n",
       "</style>\n",
       "<table border=\"1\" class=\"dataframe\">\n",
       "  <thead>\n",
       "    <tr style=\"text-align: right;\">\n",
       "      <th></th>\n",
       "      <th>Happiness Rank</th>\n",
       "      <th>Happiness Score</th>\n",
       "      <th>Standard Error</th>\n",
       "      <th>Economy (GDP per Capita)</th>\n",
       "      <th>Family</th>\n",
       "      <th>Health (Life Expectancy)</th>\n",
       "      <th>Freedom</th>\n",
       "      <th>Trust (Government Corruption)</th>\n",
       "      <th>Generosity</th>\n",
       "      <th>Dystopia Residual</th>\n",
       "    </tr>\n",
       "  </thead>\n",
       "  <tbody>\n",
       "    <tr>\n",
       "      <th>count</th>\n",
       "      <td>158.000000</td>\n",
       "      <td>158.000000</td>\n",
       "      <td>158.000000</td>\n",
       "      <td>158.000000</td>\n",
       "      <td>158.000000</td>\n",
       "      <td>158.000000</td>\n",
       "      <td>158.000000</td>\n",
       "      <td>158.000000</td>\n",
       "      <td>158.000000</td>\n",
       "      <td>158.000000</td>\n",
       "    </tr>\n",
       "    <tr>\n",
       "      <th>mean</th>\n",
       "      <td>79.493671</td>\n",
       "      <td>5.375734</td>\n",
       "      <td>0.047885</td>\n",
       "      <td>0.846137</td>\n",
       "      <td>0.991046</td>\n",
       "      <td>0.630259</td>\n",
       "      <td>0.428615</td>\n",
       "      <td>0.143422</td>\n",
       "      <td>0.237296</td>\n",
       "      <td>2.098977</td>\n",
       "    </tr>\n",
       "    <tr>\n",
       "      <th>std</th>\n",
       "      <td>45.754363</td>\n",
       "      <td>1.145010</td>\n",
       "      <td>0.017146</td>\n",
       "      <td>0.403121</td>\n",
       "      <td>0.272369</td>\n",
       "      <td>0.247078</td>\n",
       "      <td>0.150693</td>\n",
       "      <td>0.120034</td>\n",
       "      <td>0.126685</td>\n",
       "      <td>0.553550</td>\n",
       "    </tr>\n",
       "    <tr>\n",
       "      <th>min</th>\n",
       "      <td>1.000000</td>\n",
       "      <td>2.839000</td>\n",
       "      <td>0.018480</td>\n",
       "      <td>0.000000</td>\n",
       "      <td>0.000000</td>\n",
       "      <td>0.000000</td>\n",
       "      <td>0.000000</td>\n",
       "      <td>0.000000</td>\n",
       "      <td>0.000000</td>\n",
       "      <td>0.328580</td>\n",
       "    </tr>\n",
       "    <tr>\n",
       "      <th>25%</th>\n",
       "      <td>40.250000</td>\n",
       "      <td>4.526000</td>\n",
       "      <td>0.037268</td>\n",
       "      <td>0.545808</td>\n",
       "      <td>0.856823</td>\n",
       "      <td>0.439185</td>\n",
       "      <td>0.328330</td>\n",
       "      <td>0.061675</td>\n",
       "      <td>0.150553</td>\n",
       "      <td>1.759410</td>\n",
       "    </tr>\n",
       "    <tr>\n",
       "      <th>50%</th>\n",
       "      <td>79.500000</td>\n",
       "      <td>5.232500</td>\n",
       "      <td>0.043940</td>\n",
       "      <td>0.910245</td>\n",
       "      <td>1.029510</td>\n",
       "      <td>0.696705</td>\n",
       "      <td>0.435515</td>\n",
       "      <td>0.107220</td>\n",
       "      <td>0.216130</td>\n",
       "      <td>2.095415</td>\n",
       "    </tr>\n",
       "    <tr>\n",
       "      <th>75%</th>\n",
       "      <td>118.750000</td>\n",
       "      <td>6.243750</td>\n",
       "      <td>0.052300</td>\n",
       "      <td>1.158448</td>\n",
       "      <td>1.214405</td>\n",
       "      <td>0.811013</td>\n",
       "      <td>0.549092</td>\n",
       "      <td>0.180255</td>\n",
       "      <td>0.309883</td>\n",
       "      <td>2.462415</td>\n",
       "    </tr>\n",
       "    <tr>\n",
       "      <th>max</th>\n",
       "      <td>158.000000</td>\n",
       "      <td>7.587000</td>\n",
       "      <td>0.136930</td>\n",
       "      <td>1.690420</td>\n",
       "      <td>1.402230</td>\n",
       "      <td>1.025250</td>\n",
       "      <td>0.669730</td>\n",
       "      <td>0.551910</td>\n",
       "      <td>0.795880</td>\n",
       "      <td>3.602140</td>\n",
       "    </tr>\n",
       "  </tbody>\n",
       "</table>\n",
       "</div>"
      ],
      "text/plain": [
       "       Happiness Rank  Happiness Score  Standard Error  \\\n",
       "count      158.000000       158.000000      158.000000   \n",
       "mean        79.493671         5.375734        0.047885   \n",
       "std         45.754363         1.145010        0.017146   \n",
       "min          1.000000         2.839000        0.018480   \n",
       "25%         40.250000         4.526000        0.037268   \n",
       "50%         79.500000         5.232500        0.043940   \n",
       "75%        118.750000         6.243750        0.052300   \n",
       "max        158.000000         7.587000        0.136930   \n",
       "\n",
       "       Economy (GDP per Capita)      Family  Health (Life Expectancy)  \\\n",
       "count                158.000000  158.000000                158.000000   \n",
       "mean                   0.846137    0.991046                  0.630259   \n",
       "std                    0.403121    0.272369                  0.247078   \n",
       "min                    0.000000    0.000000                  0.000000   \n",
       "25%                    0.545808    0.856823                  0.439185   \n",
       "50%                    0.910245    1.029510                  0.696705   \n",
       "75%                    1.158448    1.214405                  0.811013   \n",
       "max                    1.690420    1.402230                  1.025250   \n",
       "\n",
       "          Freedom  Trust (Government Corruption)  Generosity  \\\n",
       "count  158.000000                     158.000000  158.000000   \n",
       "mean     0.428615                       0.143422    0.237296   \n",
       "std      0.150693                       0.120034    0.126685   \n",
       "min      0.000000                       0.000000    0.000000   \n",
       "25%      0.328330                       0.061675    0.150553   \n",
       "50%      0.435515                       0.107220    0.216130   \n",
       "75%      0.549092                       0.180255    0.309883   \n",
       "max      0.669730                       0.551910    0.795880   \n",
       "\n",
       "       Dystopia Residual  \n",
       "count         158.000000  \n",
       "mean            2.098977  \n",
       "std             0.553550  \n",
       "min             0.328580  \n",
       "25%             1.759410  \n",
       "50%             2.095415  \n",
       "75%             2.462415  \n",
       "max             3.602140  "
      ]
     },
     "execution_count": 8,
     "metadata": {},
     "output_type": "execute_result"
    }
   ],
   "source": [
    "df_score.describe()"
   ]
  },
  {
   "cell_type": "markdown",
   "id": "47588c5a",
   "metadata": {},
   "source": [
    "Here we get the insights of the numerical datas by leaving the catogirical datas . we can see mean,median,min,max,count etc.."
   ]
  },
  {
   "cell_type": "code",
   "execution_count": 9,
   "id": "d9d23ddb",
   "metadata": {},
   "outputs": [
    {
     "data": {
      "text/plain": [
       "Index(['Country', 'Region', 'Happiness Rank', 'Happiness Score',\n",
       "       'Standard Error', 'Economy (GDP per Capita)', 'Family',\n",
       "       'Health (Life Expectancy)', 'Freedom', 'Trust (Government Corruption)',\n",
       "       'Generosity', 'Dystopia Residual'],\n",
       "      dtype='object')"
      ]
     },
     "execution_count": 9,
     "metadata": {},
     "output_type": "execute_result"
    }
   ],
   "source": [
    "df_score.columns"
   ]
  },
  {
   "cell_type": "markdown",
   "id": "c49b5252",
   "metadata": {},
   "source": [
    "From this we can see that Happiness Score is the label/output column and rest of the columns are the features 'Country', 'Region', 'Happiness Rank','Standard Error', 'Economy (GDP per Capita)', 'Family','Health (Life Expectancy)', 'Freedom','Trust (Government Corruption)','Generosity', 'Dystopia Residual'"
   ]
  },
  {
   "cell_type": "markdown",
   "id": "4e38f118",
   "metadata": {},
   "source": [
    "# Dropping categorical data that are not contributing to the label prediction:"
   ]
  },
  {
   "cell_type": "code",
   "execution_count": 10,
   "id": "19eba975",
   "metadata": {},
   "outputs": [],
   "source": [
    "df_score_New=df_score.drop(['Country','Region','Happiness Rank'],axis=1)"
   ]
  },
  {
   "cell_type": "markdown",
   "id": "cb3f03c3",
   "metadata": {},
   "source": [
    "Here we have dropped the coloumns using drop command."
   ]
  },
  {
   "cell_type": "markdown",
   "id": "4ebd8afa",
   "metadata": {},
   "source": [
    "# Visualizing the data:\n",
    "    "
   ]
  },
  {
   "cell_type": "code",
   "execution_count": 11,
   "id": "ae596eb5",
   "metadata": {},
   "outputs": [],
   "source": [
    "upper_triangel=np.tril(df_score_New.corr())\n",
    "sns.heatmap(df_score_New.corr(),vmin=-1,vmax=1,annot=True,annot_kws={'size':10},cmap='gist_earth',mask=upper_triangel)\n",
    "plt.show()"
   ]
  },
  {
   "cell_type": "markdown",
   "id": "2f7703ae",
   "metadata": {},
   "source": [
    "From the above graph we can able to check the correlation between the happiness Score with other feature columns. No dark boxex are present which represent that somewhat all these columns are contributing to the prediction of the Label."
   ]
  },
  {
   "cell_type": "code",
   "execution_count": 12,
   "id": "e188616b",
   "metadata": {},
   "outputs": [],
   "source": [
    "corr_hmap=df_score_New.corr()\n",
    "plt.figure(figsize=(20,10))\n",
    "sns.heatmap(corr_hmap,annot=True,cmap='gist_earth')\n",
    "plt.show()"
   ]
  },
  {
   "cell_type": "markdown",
   "id": "53fff6c4",
   "metadata": {},
   "source": [
    "HeatMap Observations:\n",
    "1. Happiness Score is in drak blue in color with Standard Error that indicates that they are negatively correlated to each other.\n",
    "2. The dark black colors indicate that they are very high negatively correlated to each other.\n",
    "3. the Light colors indicate the positive correlation between the two columns."
   ]
  },
  {
   "cell_type": "code",
   "execution_count": 13,
   "id": "f77aba08",
   "metadata": {},
   "outputs": [],
   "source": [
    "#Using the PairPlot:\n",
    "sns.pairplot(df_score_New)\n",
    "plt.show()"
   ]
  },
  {
   "cell_type": "markdown",
   "id": "443ff5ee",
   "metadata": {},
   "source": [
    "In pairplot we can see how datas are distributed by using scatter Plot and histogram . "
   ]
  },
  {
   "cell_type": "markdown",
   "id": "ec9ef2a0",
   "metadata": {},
   "source": [
    "# Using Histogram:\n",
    "    "
   ]
  },
  {
   "cell_type": "code",
   "execution_count": 14,
   "id": "5105b2c9",
   "metadata": {},
   "outputs": [],
   "source": [
    "plt.rcParams['figure.figsize']=(20,20)\n",
    "df_score_New.hist(bins=20,color='blue',density=True,label='Value',histtype='bar')\n",
    "plt.tight_layout()\n",
    "plt.show()"
   ]
  },
  {
   "cell_type": "markdown",
   "id": "5e79d2b3",
   "metadata": {},
   "source": [
    "From the Histogram we can see that there are columns wuth skewness and not normally distributed. We can future conform the presense of skewness by using box plot and skew()."
   ]
  },
  {
   "cell_type": "markdown",
   "id": "75c3d733",
   "metadata": {},
   "source": [
    "# Box Ploting:"
   ]
  },
  {
   "cell_type": "code",
   "execution_count": 15,
   "id": "9c1c023b",
   "metadata": {},
   "outputs": [
    {
     "data": {
      "text/plain": [
       "Happiness Score                     AxesSubplot(0.125,0.749828;0.0945122x0.130172)\n",
       "Standard Error                   AxesSubplot(0.238415,0.749828;0.0945122x0.130172)\n",
       "Economy (GDP per Capita)         AxesSubplot(0.351829,0.749828;0.0945122x0.130172)\n",
       "Family                           AxesSubplot(0.465244,0.749828;0.0945122x0.130172)\n",
       "Health (Life Expectancy)         AxesSubplot(0.578659,0.749828;0.0945122x0.130172)\n",
       "Freedom                          AxesSubplot(0.692073,0.749828;0.0945122x0.130172)\n",
       "Trust (Government Corruption)    AxesSubplot(0.805488,0.749828;0.0945122x0.130172)\n",
       "Generosity                          AxesSubplot(0.125,0.593621;0.0945122x0.130172)\n",
       "Dystopia Residual                AxesSubplot(0.238415,0.593621;0.0945122x0.130172)\n",
       "dtype: object"
      ]
     },
     "execution_count": 15,
     "metadata": {},
     "output_type": "execute_result"
    }
   ],
   "source": [
    "df_score_New.plot(kind='box',subplots=True,layout=(5,7),figsize=(20,20),notch=True)"
   ]
  },
  {
   "cell_type": "markdown",
   "id": "e53d46ae",
   "metadata": {},
   "source": [
    "We can clearly find out that in the coloumns like Standard Error,Trust,Family,Generosity,Dystopia Residual we can see skewness is present."
   ]
  },
  {
   "cell_type": "markdown",
   "id": "e7412787",
   "metadata": {},
   "source": [
    "# Finding Skewness by using skew()"
   ]
  },
  {
   "cell_type": "code",
   "execution_count": 16,
   "id": "1f43b145",
   "metadata": {},
   "outputs": [
    {
     "data": {
      "text/plain": [
       "Happiness Score                  0.097769\n",
       "Standard Error                   1.983439\n",
       "Economy (GDP per Capita)        -0.317575\n",
       "Family                          -1.006893\n",
       "Health (Life Expectancy)        -0.705328\n",
       "Freedom                         -0.413462\n",
       "Trust (Government Corruption)    1.385463\n",
       "Generosity                       1.001961\n",
       "Dystopia Residual               -0.238911\n",
       "dtype: float64"
      ]
     },
     "execution_count": 16,
     "metadata": {},
     "output_type": "execute_result"
    }
   ],
   "source": [
    "df_score_New.skew()"
   ]
  },
  {
   "cell_type": "markdown",
   "id": "3313f413",
   "metadata": {},
   "source": [
    "from the skew() method we can see certain columns that are not in the acceptable range of -0.5 to 0.5. that indicates that we have outliers present in our ata set will need to be treated."
   ]
  },
  {
   "cell_type": "markdown",
   "id": "ee0c7a2b",
   "metadata": {},
   "source": [
    "# Outilier removal:\n",
    "Acceptable range of Skewness: -0.5/+0,5"
   ]
  },
  {
   "cell_type": "code",
   "execution_count": 17,
   "id": "d0e42b83",
   "metadata": {},
   "outputs": [
    {
     "data": {
      "text/html": [
       "<div>\n",
       "<style scoped>\n",
       "    .dataframe tbody tr th:only-of-type {\n",
       "        vertical-align: middle;\n",
       "    }\n",
       "\n",
       "    .dataframe tbody tr th {\n",
       "        vertical-align: top;\n",
       "    }\n",
       "\n",
       "    .dataframe thead th {\n",
       "        text-align: right;\n",
       "    }\n",
       "</style>\n",
       "<table border=\"1\" class=\"dataframe\">\n",
       "  <thead>\n",
       "    <tr style=\"text-align: right;\">\n",
       "      <th></th>\n",
       "      <th>Happiness Score</th>\n",
       "      <th>Standard Error</th>\n",
       "      <th>Economy (GDP per Capita)</th>\n",
       "      <th>Family</th>\n",
       "      <th>Health (Life Expectancy)</th>\n",
       "      <th>Freedom</th>\n",
       "      <th>Trust (Government Corruption)</th>\n",
       "      <th>Generosity</th>\n",
       "      <th>Dystopia Residual</th>\n",
       "    </tr>\n",
       "  </thead>\n",
       "  <tbody>\n",
       "    <tr>\n",
       "      <th>0</th>\n",
       "      <td>7.587</td>\n",
       "      <td>0.03411</td>\n",
       "      <td>1.39651</td>\n",
       "      <td>1.34951</td>\n",
       "      <td>0.94143</td>\n",
       "      <td>0.66557</td>\n",
       "      <td>0.41978</td>\n",
       "      <td>0.29678</td>\n",
       "      <td>2.51738</td>\n",
       "    </tr>\n",
       "    <tr>\n",
       "      <th>1</th>\n",
       "      <td>7.561</td>\n",
       "      <td>0.04884</td>\n",
       "      <td>1.30232</td>\n",
       "      <td>1.40223</td>\n",
       "      <td>0.94784</td>\n",
       "      <td>0.62877</td>\n",
       "      <td>0.14145</td>\n",
       "      <td>0.43630</td>\n",
       "      <td>2.70201</td>\n",
       "    </tr>\n",
       "    <tr>\n",
       "      <th>2</th>\n",
       "      <td>7.527</td>\n",
       "      <td>0.03328</td>\n",
       "      <td>1.32548</td>\n",
       "      <td>1.36058</td>\n",
       "      <td>0.87464</td>\n",
       "      <td>0.64938</td>\n",
       "      <td>0.48357</td>\n",
       "      <td>0.34139</td>\n",
       "      <td>2.49204</td>\n",
       "    </tr>\n",
       "    <tr>\n",
       "      <th>3</th>\n",
       "      <td>7.522</td>\n",
       "      <td>0.03880</td>\n",
       "      <td>1.45900</td>\n",
       "      <td>1.33095</td>\n",
       "      <td>0.88521</td>\n",
       "      <td>0.66973</td>\n",
       "      <td>0.36503</td>\n",
       "      <td>0.34699</td>\n",
       "      <td>2.46531</td>\n",
       "    </tr>\n",
       "    <tr>\n",
       "      <th>4</th>\n",
       "      <td>7.427</td>\n",
       "      <td>0.03553</td>\n",
       "      <td>1.32629</td>\n",
       "      <td>1.32261</td>\n",
       "      <td>0.90563</td>\n",
       "      <td>0.63297</td>\n",
       "      <td>0.32957</td>\n",
       "      <td>0.45811</td>\n",
       "      <td>2.45176</td>\n",
       "    </tr>\n",
       "    <tr>\n",
       "      <th>...</th>\n",
       "      <td>...</td>\n",
       "      <td>...</td>\n",
       "      <td>...</td>\n",
       "      <td>...</td>\n",
       "      <td>...</td>\n",
       "      <td>...</td>\n",
       "      <td>...</td>\n",
       "      <td>...</td>\n",
       "      <td>...</td>\n",
       "    </tr>\n",
       "    <tr>\n",
       "      <th>150</th>\n",
       "      <td>3.655</td>\n",
       "      <td>0.05141</td>\n",
       "      <td>0.46534</td>\n",
       "      <td>0.77115</td>\n",
       "      <td>0.15185</td>\n",
       "      <td>0.46866</td>\n",
       "      <td>0.17922</td>\n",
       "      <td>0.20165</td>\n",
       "      <td>1.41723</td>\n",
       "    </tr>\n",
       "    <tr>\n",
       "      <th>151</th>\n",
       "      <td>3.587</td>\n",
       "      <td>0.04324</td>\n",
       "      <td>0.25812</td>\n",
       "      <td>0.85188</td>\n",
       "      <td>0.27125</td>\n",
       "      <td>0.39493</td>\n",
       "      <td>0.12832</td>\n",
       "      <td>0.21747</td>\n",
       "      <td>1.46494</td>\n",
       "    </tr>\n",
       "    <tr>\n",
       "      <th>152</th>\n",
       "      <td>3.575</td>\n",
       "      <td>0.03084</td>\n",
       "      <td>0.31982</td>\n",
       "      <td>0.30285</td>\n",
       "      <td>0.30335</td>\n",
       "      <td>0.23414</td>\n",
       "      <td>0.09719</td>\n",
       "      <td>0.36510</td>\n",
       "      <td>1.95210</td>\n",
       "    </tr>\n",
       "    <tr>\n",
       "      <th>154</th>\n",
       "      <td>3.340</td>\n",
       "      <td>0.03656</td>\n",
       "      <td>0.28665</td>\n",
       "      <td>0.35386</td>\n",
       "      <td>0.31910</td>\n",
       "      <td>0.48450</td>\n",
       "      <td>0.08010</td>\n",
       "      <td>0.18260</td>\n",
       "      <td>1.63328</td>\n",
       "    </tr>\n",
       "    <tr>\n",
       "      <th>156</th>\n",
       "      <td>2.905</td>\n",
       "      <td>0.08658</td>\n",
       "      <td>0.01530</td>\n",
       "      <td>0.41587</td>\n",
       "      <td>0.22396</td>\n",
       "      <td>0.11850</td>\n",
       "      <td>0.10062</td>\n",
       "      <td>0.19727</td>\n",
       "      <td>1.83302</td>\n",
       "    </tr>\n",
       "  </tbody>\n",
       "</table>\n",
       "<p>149 rows × 9 columns</p>\n",
       "</div>"
      ],
      "text/plain": [
       "     Happiness Score  Standard Error  Economy (GDP per Capita)   Family  \\\n",
       "0              7.587         0.03411                   1.39651  1.34951   \n",
       "1              7.561         0.04884                   1.30232  1.40223   \n",
       "2              7.527         0.03328                   1.32548  1.36058   \n",
       "3              7.522         0.03880                   1.45900  1.33095   \n",
       "4              7.427         0.03553                   1.32629  1.32261   \n",
       "..               ...             ...                       ...      ...   \n",
       "150            3.655         0.05141                   0.46534  0.77115   \n",
       "151            3.587         0.04324                   0.25812  0.85188   \n",
       "152            3.575         0.03084                   0.31982  0.30285   \n",
       "154            3.340         0.03656                   0.28665  0.35386   \n",
       "156            2.905         0.08658                   0.01530  0.41587   \n",
       "\n",
       "     Health (Life Expectancy)  Freedom  Trust (Government Corruption)  \\\n",
       "0                     0.94143  0.66557                        0.41978   \n",
       "1                     0.94784  0.62877                        0.14145   \n",
       "2                     0.87464  0.64938                        0.48357   \n",
       "3                     0.88521  0.66973                        0.36503   \n",
       "4                     0.90563  0.63297                        0.32957   \n",
       "..                        ...      ...                            ...   \n",
       "150                   0.15185  0.46866                        0.17922   \n",
       "151                   0.27125  0.39493                        0.12832   \n",
       "152                   0.30335  0.23414                        0.09719   \n",
       "154                   0.31910  0.48450                        0.08010   \n",
       "156                   0.22396  0.11850                        0.10062   \n",
       "\n",
       "     Generosity  Dystopia Residual  \n",
       "0       0.29678            2.51738  \n",
       "1       0.43630            2.70201  \n",
       "2       0.34139            2.49204  \n",
       "3       0.34699            2.46531  \n",
       "4       0.45811            2.45176  \n",
       "..          ...                ...  \n",
       "150     0.20165            1.41723  \n",
       "151     0.21747            1.46494  \n",
       "152     0.36510            1.95210  \n",
       "154     0.18260            1.63328  \n",
       "156     0.19727            1.83302  \n",
       "\n",
       "[149 rows x 9 columns]"
      ]
     },
     "execution_count": 17,
     "metadata": {},
     "output_type": "execute_result"
    }
   ],
   "source": [
    "# z Score Method:\n",
    "z=np.abs(zscore(df_score_New))\n",
    "threshold=3\n",
    "np.where(z>3)\n",
    "df_score_New1=df_score_New[(z<3).all(axis=1)]\n",
    "df_score_New1"
   ]
  },
  {
   "cell_type": "markdown",
   "id": "0c3821eb",
   "metadata": {},
   "source": [
    "With the ZScore Method we are able to detect the outliers and have removed them from our data set"
   ]
  },
  {
   "cell_type": "code",
   "execution_count": 18,
   "id": "baff6990",
   "metadata": {},
   "outputs": [
    {
     "data": {
      "text/plain": [
       "5.69620253164557"
      ]
     },
     "execution_count": 18,
     "metadata": {},
     "output_type": "execute_result"
    }
   ],
   "source": [
    "# Percentage of Data Loss:\n",
    "data_loss=(158-149)/158*100\n",
    "data_loss"
   ]
  },
  {
   "cell_type": "markdown",
   "id": "ec15e182",
   "metadata": {},
   "source": [
    "# Splitting the dataset into 2 variables namely 'x','y' for feature and label"
   ]
  },
  {
   "cell_type": "code",
   "execution_count": 19,
   "id": "a9e3be31",
   "metadata": {},
   "outputs": [],
   "source": [
    "x=df_score_New1.drop('Happiness Score',axis=1)# list of all Feature\n",
    "y=df_score_New1['Happiness Score'] # Label"
   ]
  },
  {
   "cell_type": "markdown",
   "id": "a0130311",
   "metadata": {},
   "source": [
    "Now we have spillet the dataset into features and label for Training and testing the model"
   ]
  },
  {
   "cell_type": "code",
   "execution_count": 20,
   "id": "97cf5b13",
   "metadata": {},
   "outputs": [
    {
     "data": {
      "text/plain": [
       "(149, 8)"
      ]
     },
     "execution_count": 20,
     "metadata": {},
     "output_type": "execute_result"
    }
   ],
   "source": [
    "x.shape"
   ]
  },
  {
   "cell_type": "code",
   "execution_count": 21,
   "id": "2cb0c81c",
   "metadata": {},
   "outputs": [
    {
     "data": {
      "text/plain": [
       "(149,)"
      ]
     },
     "execution_count": 21,
     "metadata": {},
     "output_type": "execute_result"
    }
   ],
   "source": [
    "y.shape"
   ]
  },
  {
   "cell_type": "code",
   "execution_count": 22,
   "id": "15382433",
   "metadata": {},
   "outputs": [
    {
     "data": {
      "text/html": [
       "<div>\n",
       "<style scoped>\n",
       "    .dataframe tbody tr th:only-of-type {\n",
       "        vertical-align: middle;\n",
       "    }\n",
       "\n",
       "    .dataframe tbody tr th {\n",
       "        vertical-align: top;\n",
       "    }\n",
       "\n",
       "    .dataframe thead th {\n",
       "        text-align: right;\n",
       "    }\n",
       "</style>\n",
       "<table border=\"1\" class=\"dataframe\">\n",
       "  <thead>\n",
       "    <tr style=\"text-align: right;\">\n",
       "      <th></th>\n",
       "      <th>Standard Error</th>\n",
       "      <th>Economy (GDP per Capita)</th>\n",
       "      <th>Family</th>\n",
       "      <th>Health (Life Expectancy)</th>\n",
       "      <th>Freedom</th>\n",
       "      <th>Trust (Government Corruption)</th>\n",
       "      <th>Generosity</th>\n",
       "      <th>Dystopia Residual</th>\n",
       "    </tr>\n",
       "  </thead>\n",
       "  <tbody>\n",
       "    <tr>\n",
       "      <th>0</th>\n",
       "      <td>0.03411</td>\n",
       "      <td>1.39651</td>\n",
       "      <td>1.34951</td>\n",
       "      <td>0.94143</td>\n",
       "      <td>0.66557</td>\n",
       "      <td>0.41978</td>\n",
       "      <td>0.29678</td>\n",
       "      <td>2.51738</td>\n",
       "    </tr>\n",
       "    <tr>\n",
       "      <th>1</th>\n",
       "      <td>0.04884</td>\n",
       "      <td>1.30232</td>\n",
       "      <td>1.40223</td>\n",
       "      <td>0.94784</td>\n",
       "      <td>0.62877</td>\n",
       "      <td>0.14145</td>\n",
       "      <td>0.43630</td>\n",
       "      <td>2.70201</td>\n",
       "    </tr>\n",
       "    <tr>\n",
       "      <th>2</th>\n",
       "      <td>0.03328</td>\n",
       "      <td>1.32548</td>\n",
       "      <td>1.36058</td>\n",
       "      <td>0.87464</td>\n",
       "      <td>0.64938</td>\n",
       "      <td>0.48357</td>\n",
       "      <td>0.34139</td>\n",
       "      <td>2.49204</td>\n",
       "    </tr>\n",
       "    <tr>\n",
       "      <th>3</th>\n",
       "      <td>0.03880</td>\n",
       "      <td>1.45900</td>\n",
       "      <td>1.33095</td>\n",
       "      <td>0.88521</td>\n",
       "      <td>0.66973</td>\n",
       "      <td>0.36503</td>\n",
       "      <td>0.34699</td>\n",
       "      <td>2.46531</td>\n",
       "    </tr>\n",
       "    <tr>\n",
       "      <th>4</th>\n",
       "      <td>0.03553</td>\n",
       "      <td>1.32629</td>\n",
       "      <td>1.32261</td>\n",
       "      <td>0.90563</td>\n",
       "      <td>0.63297</td>\n",
       "      <td>0.32957</td>\n",
       "      <td>0.45811</td>\n",
       "      <td>2.45176</td>\n",
       "    </tr>\n",
       "  </tbody>\n",
       "</table>\n",
       "</div>"
      ],
      "text/plain": [
       "   Standard Error  Economy (GDP per Capita)   Family  \\\n",
       "0         0.03411                   1.39651  1.34951   \n",
       "1         0.04884                   1.30232  1.40223   \n",
       "2         0.03328                   1.32548  1.36058   \n",
       "3         0.03880                   1.45900  1.33095   \n",
       "4         0.03553                   1.32629  1.32261   \n",
       "\n",
       "   Health (Life Expectancy)  Freedom  Trust (Government Corruption)  \\\n",
       "0                   0.94143  0.66557                        0.41978   \n",
       "1                   0.94784  0.62877                        0.14145   \n",
       "2                   0.87464  0.64938                        0.48357   \n",
       "3                   0.88521  0.66973                        0.36503   \n",
       "4                   0.90563  0.63297                        0.32957   \n",
       "\n",
       "   Generosity  Dystopia Residual  \n",
       "0     0.29678            2.51738  \n",
       "1     0.43630            2.70201  \n",
       "2     0.34139            2.49204  \n",
       "3     0.34699            2.46531  \n",
       "4     0.45811            2.45176  "
      ]
     },
     "execution_count": 22,
     "metadata": {},
     "output_type": "execute_result"
    }
   ],
   "source": [
    "x.head()"
   ]
  },
  {
   "cell_type": "code",
   "execution_count": 23,
   "id": "244c343e",
   "metadata": {},
   "outputs": [
    {
     "data": {
      "text/plain": [
       "0    7.587\n",
       "1    7.561\n",
       "2    7.527\n",
       "3    7.522\n",
       "4    7.427\n",
       "Name: Happiness Score, dtype: float64"
      ]
     },
     "execution_count": 23,
     "metadata": {},
     "output_type": "execute_result"
    }
   ],
   "source": [
    "y.head()"
   ]
  },
  {
   "cell_type": "markdown",
   "id": "582368f8",
   "metadata": {},
   "source": [
    "# Scaling"
   ]
  },
  {
   "cell_type": "code",
   "execution_count": 24,
   "id": "6a57c3fc",
   "metadata": {},
   "outputs": [],
   "source": [
    "scale1=PowerTransformer(method='yeo-johnson')\n",
    "x_scaled=pd.DataFrame(scale1.fit_transform(x),columns=x.columns)"
   ]
  },
  {
   "cell_type": "code",
   "execution_count": 25,
   "id": "ced08b8b",
   "metadata": {},
   "outputs": [
    {
     "data": {
      "text/html": [
       "<div>\n",
       "<style scoped>\n",
       "    .dataframe tbody tr th:only-of-type {\n",
       "        vertical-align: middle;\n",
       "    }\n",
       "\n",
       "    .dataframe tbody tr th {\n",
       "        vertical-align: top;\n",
       "    }\n",
       "\n",
       "    .dataframe thead th {\n",
       "        text-align: right;\n",
       "    }\n",
       "</style>\n",
       "<table border=\"1\" class=\"dataframe\">\n",
       "  <thead>\n",
       "    <tr style=\"text-align: right;\">\n",
       "      <th></th>\n",
       "      <th>Standard Error</th>\n",
       "      <th>Economy (GDP per Capita)</th>\n",
       "      <th>Family</th>\n",
       "      <th>Health (Life Expectancy)</th>\n",
       "      <th>Freedom</th>\n",
       "      <th>Trust (Government Corruption)</th>\n",
       "      <th>Generosity</th>\n",
       "      <th>Dystopia Residual</th>\n",
       "    </tr>\n",
       "  </thead>\n",
       "  <tbody>\n",
       "    <tr>\n",
       "      <th>0</th>\n",
       "      <td>-0.950337</td>\n",
       "      <td>1.492454</td>\n",
       "      <td>1.658880</td>\n",
       "      <td>1.469636</td>\n",
       "      <td>1.754982</td>\n",
       "      <td>1.817625</td>\n",
       "      <td>0.659579</td>\n",
       "      <td>0.755255</td>\n",
       "    </tr>\n",
       "    <tr>\n",
       "      <th>1</th>\n",
       "      <td>0.378562</td>\n",
       "      <td>1.194067</td>\n",
       "      <td>2.009125</td>\n",
       "      <td>1.511292</td>\n",
       "      <td>1.442182</td>\n",
       "      <td>0.329676</td>\n",
       "      <td>1.562604</td>\n",
       "      <td>1.111168</td>\n",
       "    </tr>\n",
       "    <tr>\n",
       "      <th>2</th>\n",
       "      <td>-1.041401</td>\n",
       "      <td>1.266612</td>\n",
       "      <td>1.730785</td>\n",
       "      <td>1.053469</td>\n",
       "      <td>1.616037</td>\n",
       "      <td>1.953400</td>\n",
       "      <td>0.977226</td>\n",
       "      <td>0.706495</td>\n",
       "    </tr>\n",
       "    <tr>\n",
       "      <th>3</th>\n",
       "      <td>-0.471124</td>\n",
       "      <td>1.695302</td>\n",
       "      <td>1.540248</td>\n",
       "      <td>1.117188</td>\n",
       "      <td>1.791023</td>\n",
       "      <td>1.664359</td>\n",
       "      <td>1.015018</td>\n",
       "      <td>0.655082</td>\n",
       "    </tr>\n",
       "    <tr>\n",
       "      <th>4</th>\n",
       "      <td>-0.799032</td>\n",
       "      <td>1.269159</td>\n",
       "      <td>1.487718</td>\n",
       "      <td>1.242549</td>\n",
       "      <td>1.477337</td>\n",
       "      <td>1.541247</td>\n",
       "      <td>1.682150</td>\n",
       "      <td>0.629030</td>\n",
       "    </tr>\n",
       "    <tr>\n",
       "      <th>...</th>\n",
       "      <td>...</td>\n",
       "      <td>...</td>\n",
       "      <td>...</td>\n",
       "      <td>...</td>\n",
       "      <td>...</td>\n",
       "      <td>...</td>\n",
       "      <td>...</td>\n",
       "      <td>...</td>\n",
       "    </tr>\n",
       "    <tr>\n",
       "      <th>144</th>\n",
       "      <td>0.563000</td>\n",
       "      <td>-1.052662</td>\n",
       "      <td>-1.047195</td>\n",
       "      <td>-1.707662</td>\n",
       "      <td>0.204409</td>\n",
       "      <td>0.681035</td>\n",
       "      <td>-0.131736</td>\n",
       "      <td>-1.339678</td>\n",
       "    </tr>\n",
       "    <tr>\n",
       "      <th>145</th>\n",
       "      <td>-0.068119</td>\n",
       "      <td>-1.490349</td>\n",
       "      <td>-0.778550</td>\n",
       "      <td>-1.435893</td>\n",
       "      <td>-0.300343</td>\n",
       "      <td>0.188577</td>\n",
       "      <td>0.012019</td>\n",
       "      <td>-1.249871</td>\n",
       "    </tr>\n",
       "    <tr>\n",
       "      <th>146</th>\n",
       "      <td>-1.320810</td>\n",
       "      <td>-1.365216</td>\n",
       "      <td>-2.087389</td>\n",
       "      <td>-1.352388</td>\n",
       "      <td>-1.265395</td>\n",
       "      <td>-0.192843</td>\n",
       "      <td>1.134258</td>\n",
       "      <td>-0.327115</td>\n",
       "    </tr>\n",
       "    <tr>\n",
       "      <th>147</th>\n",
       "      <td>-0.692726</td>\n",
       "      <td>-1.433041</td>\n",
       "      <td>-2.010443</td>\n",
       "      <td>-1.309709</td>\n",
       "      <td>0.318123</td>\n",
       "      <td>-0.434498</td>\n",
       "      <td>-0.312080</td>\n",
       "      <td>-0.932164</td>\n",
       "    </tr>\n",
       "    <tr>\n",
       "      <th>148</th>\n",
       "      <td>2.178766</td>\n",
       "      <td>-1.938747</td>\n",
       "      <td>-1.906410</td>\n",
       "      <td>-1.550663</td>\n",
       "      <td>-1.849893</td>\n",
       "      <td>-0.147274</td>\n",
       "      <td>-0.172486</td>\n",
       "      <td>-0.553592</td>\n",
       "    </tr>\n",
       "  </tbody>\n",
       "</table>\n",
       "<p>149 rows × 8 columns</p>\n",
       "</div>"
      ],
      "text/plain": [
       "     Standard Error  Economy (GDP per Capita)    Family  \\\n",
       "0         -0.950337                  1.492454  1.658880   \n",
       "1          0.378562                  1.194067  2.009125   \n",
       "2         -1.041401                  1.266612  1.730785   \n",
       "3         -0.471124                  1.695302  1.540248   \n",
       "4         -0.799032                  1.269159  1.487718   \n",
       "..              ...                       ...       ...   \n",
       "144        0.563000                 -1.052662 -1.047195   \n",
       "145       -0.068119                 -1.490349 -0.778550   \n",
       "146       -1.320810                 -1.365216 -2.087389   \n",
       "147       -0.692726                 -1.433041 -2.010443   \n",
       "148        2.178766                 -1.938747 -1.906410   \n",
       "\n",
       "     Health (Life Expectancy)   Freedom  Trust (Government Corruption)  \\\n",
       "0                    1.469636  1.754982                       1.817625   \n",
       "1                    1.511292  1.442182                       0.329676   \n",
       "2                    1.053469  1.616037                       1.953400   \n",
       "3                    1.117188  1.791023                       1.664359   \n",
       "4                    1.242549  1.477337                       1.541247   \n",
       "..                        ...       ...                            ...   \n",
       "144                 -1.707662  0.204409                       0.681035   \n",
       "145                 -1.435893 -0.300343                       0.188577   \n",
       "146                 -1.352388 -1.265395                      -0.192843   \n",
       "147                 -1.309709  0.318123                      -0.434498   \n",
       "148                 -1.550663 -1.849893                      -0.147274   \n",
       "\n",
       "     Generosity  Dystopia Residual  \n",
       "0      0.659579           0.755255  \n",
       "1      1.562604           1.111168  \n",
       "2      0.977226           0.706495  \n",
       "3      1.015018           0.655082  \n",
       "4      1.682150           0.629030  \n",
       "..          ...                ...  \n",
       "144   -0.131736          -1.339678  \n",
       "145    0.012019          -1.249871  \n",
       "146    1.134258          -0.327115  \n",
       "147   -0.312080          -0.932164  \n",
       "148   -0.172486          -0.553592  \n",
       "\n",
       "[149 rows x 8 columns]"
      ]
     },
     "execution_count": 25,
     "metadata": {},
     "output_type": "execute_result"
    }
   ],
   "source": [
    "x_scaled"
   ]
  },
  {
   "cell_type": "markdown",
   "id": "fb23828f",
   "metadata": {},
   "source": [
    "Displaying all the datas after applying the Power Transformer scaler"
   ]
  },
  {
   "cell_type": "code",
   "execution_count": 26,
   "id": "b625bfc3",
   "metadata": {},
   "outputs": [],
   "source": [
    "#Creating the Training and Testing data sets:\n",
    "x_train,x_test,y_train,y_test=train_test_split(x_scaled,y,train_size=0.75, random_state=42, shuffle=True)"
   ]
  },
  {
   "cell_type": "markdown",
   "id": "285a7d57",
   "metadata": {},
   "source": [
    "We are taking 75% of the total data present in the dataset for training prupose and the remaining 25% will be used in testing purpose"
   ]
  },
  {
   "cell_type": "markdown",
   "id": "4024ce4a",
   "metadata": {},
   "source": [
    "# # Machine Learning Model for Regression:"
   ]
  },
  {
   "cell_type": "code",
   "execution_count": 27,
   "id": "32c3ce9b",
   "metadata": {},
   "outputs": [],
   "source": [
    "# Model Selection:\n",
    "linear_model=LinearRegression()\n",
    "svr_model=SVR(C=1.0,epsilon=0.2,kernel='poly',gamma='auto')\n",
    "dtr_model=DecisionTreeRegressor(criterion='poisson',random_state=111)\n",
    "rfr_model=RandomForestRegressor(max_depth=2,max_features=\"sqrt\")\n",
    "knr_model=KNeighborsRegressor(n_neighbors=2,algorithm='kd_tree')"
   ]
  },
  {
   "cell_type": "markdown",
   "id": "ac758dec",
   "metadata": {},
   "source": [
    "We have used 5 regression algorithm namely  linear regression, support vector regression, decision tree regressor, random forest regressor and k neighbors regressor. Used the sklearn page to use the correct parameters for each of the models."
   ]
  },
  {
   "cell_type": "code",
   "execution_count": 28,
   "id": "1eacaaff",
   "metadata": {},
   "outputs": [
    {
     "data": {
      "text/plain": [
       "KNeighborsRegressor(algorithm='kd_tree', n_neighbors=2)"
      ]
     },
     "execution_count": 28,
     "metadata": {},
     "output_type": "execute_result"
    }
   ],
   "source": [
    "# Training the Models:\n",
    "linear_model.fit(x_train,y_train)\n",
    "svr_model.fit(x_train,y_train)\n",
    "dtr_model.fit(x_train,y_train)\n",
    "rfr_model.fit(x_train,y_train)\n",
    "knr_model.fit(x_train,y_train)"
   ]
  },
  {
   "cell_type": "code",
   "execution_count": 29,
   "id": "83edf990",
   "metadata": {},
   "outputs": [],
   "source": [
    "#Prediction:\n",
    "pred_linear=linear_model.predict(x_test)\n",
    "pred_svr=svr_model.predict(x_test)\n",
    "pred_dtr=dtr_model.predict(x_test)\n",
    "pred_rfr=rfr_model.predict(x_test)\n",
    "pred_knr=knr_model.predict(x_test)"
   ]
  },
  {
   "cell_type": "markdown",
   "id": "a584c349",
   "metadata": {},
   "source": [
    "Once the model are trained we are predicting the label by providing the unseen test feautures and storing the values ina predicted variable"
   ]
  },
  {
   "cell_type": "markdown",
   "id": "fce8f358",
   "metadata": {},
   "source": [
    "## Evaluation Metrics"
   ]
  },
  {
   "cell_type": "code",
   "execution_count": 30,
   "id": "745088d7",
   "metadata": {},
   "outputs": [
    {
     "name": "stdout",
     "output_type": "stream",
     "text": [
      "RMSE of Linear Regression is:  0.06638458610380152\n",
      "RMSE of Support Vector Regression is:  0.43020959342150195\n",
      "RMSE of Decision Tree Regressor is:  0.6827919656974976\n",
      "RMSE of Random Forest Regressor is:  0.6296123162753172\n",
      "RMSE of K Neighbors Regressor is:  0.34579756208997253\n"
     ]
    }
   ],
   "source": [
    "se_linaer=mean_squared_error(y_test,pred_linear)\n",
    "se_svr=mean_squared_error(y_test,pred_svr)\n",
    "se_dtr=mean_squared_error(y_test,pred_dtr)\n",
    "se_rfr=mean_squared_error(y_test,pred_rfr)\n",
    "se_knr=mean_squared_error(y_test,pred_knr)\n",
    "\n",
    "rmse_linear=sqrt(se_linaer)\n",
    "rmse_svr=sqrt(se_svr)\n",
    "rmse_dtr=sqrt(se_dtr)\n",
    "rmse_rfr=sqrt(se_rfr)\n",
    "rmse_knr=sqrt(se_knr)\n",
    "\n",
    "print(f\"RMSE of Linear Regression is: \", rmse_linear)\n",
    "print(f\"RMSE of Support Vector Regression is: \", rmse_svr)\n",
    "print(f\"RMSE of Decision Tree Regressor is: \", rmse_dtr)\n",
    "print(f\"RMSE of Random Forest Regressor is: \", rmse_rfr)\n",
    "print(f\"RMSE of K Neighbors Regressor is: \", rmse_knr)"
   ]
  },
  {
   "cell_type": "markdown",
   "id": "e2c42df3",
   "metadata": {},
   "source": [
    "I have used Root mean Squared error to check the difference between the actual label and the predicted label.It is always better to have Lower RMSE than a higher one."
   ]
  },
  {
   "cell_type": "code",
   "execution_count": 34,
   "id": "71728e29",
   "metadata": {},
   "outputs": [
    {
     "name": "stdout",
     "output_type": "stream",
     "text": [
      "R2 Score for Linear Regression is: 99.61289492395045\n",
      "R2 Score for Support Vector Regression is: 83.74247075798078\n",
      "R2 Score for Decision Tree Regressor  is: 59.04837243238613\n",
      "R2 Score for Random Forest Regressor  is: 65.17903581881829\n",
      "R2 Score for K Neighbors Regressor  is: 89.49639897867345\n"
     ]
    }
   ],
   "source": [
    "#R2 Score for the model:\n",
    "\n",
    "print(f\"R2 Score for Linear Regression is:\",r2_score(y_test,pred_linear,multioutput='variance_weighted')*100)\n",
    "print(f\"R2 Score for Support Vector Regression is:\",r2_score(y_test,pred_svr,multioutput='variance_weighted')*100)\n",
    "print(f\"R2 Score for Decision Tree Regressor  is:\",r2_score(y_test,pred_dtr,multioutput='variance_weighted')*100)\n",
    "print(f\"R2 Score for Random Forest Regressor  is:\",r2_score(y_test,pred_rfr,multioutput='variance_weighted')*100)\n",
    "print(f\"R2 Score for K Neighbors Regressor  is:\",r2_score(y_test,pred_knr,multioutput='variance_weighted')*100)"
   ]
  },
  {
   "cell_type": "markdown",
   "id": "defc6a84",
   "metadata": {},
   "source": [
    "We use R2 score to evaluate the model and check the accuracy by which we would be able to chosse our best regression model.\n",
    "\n",
    "By comparing the RMSE and R2 score among all the 5 Regression algorithm we can see that Linear Regresson Model has higgest R2 score and Lowest RMSE which indicates that Linear Regression model is the best among all."
   ]
  },
  {
   "cell_type": "code",
   "execution_count": 44,
   "id": "b0c687b9",
   "metadata": {},
   "outputs": [],
   "source": [
    "#Hyper Parameter Tuning on the best ML Model:\n",
    "Lr_Param={'fit_intercept':[True,False],'normalize':[True,False],'copy_X':[True,False],'n_jobs':[1,2,3,4,5,6,7,8,9,10]}\n",
    "    "
   ]
  },
  {
   "cell_type": "code",
   "execution_count": 45,
   "id": "4ffb63c5",
   "metadata": {},
   "outputs": [],
   "source": [
    "from sklearn.model_selection import GridSearchCV"
   ]
  },
  {
   "cell_type": "code",
   "execution_count": 48,
   "id": "1d063a28",
   "metadata": {},
   "outputs": [],
   "source": [
    "GSCV=GridSearchCV(LinearRegression(),Lr_Param,cv=5)"
   ]
  },
  {
   "cell_type": "code",
   "execution_count": 49,
   "id": "a18c2211",
   "metadata": {},
   "outputs": [
    {
     "data": {
      "text/plain": [
       "GridSearchCV(cv=5, estimator=LinearRegression(),\n",
       "             param_grid={'copy_X': [True, False],\n",
       "                         'fit_intercept': [True, False],\n",
       "                         'n_jobs': [1, 2, 3, 4, 5, 6, 7, 8, 9, 10],\n",
       "                         'normalize': [True, False]})"
      ]
     },
     "execution_count": 49,
     "metadata": {},
     "output_type": "execute_result"
    }
   ],
   "source": [
    "GSCV.fit(x_train,y_train)"
   ]
  },
  {
   "cell_type": "code",
   "execution_count": 51,
   "id": "07411e65",
   "metadata": {},
   "outputs": [
    {
     "data": {
      "text/plain": [
       "{'copy_X': True, 'fit_intercept': True, 'n_jobs': 1, 'normalize': True}"
      ]
     },
     "execution_count": 51,
     "metadata": {},
     "output_type": "execute_result"
    }
   ],
   "source": [
    "GSCV.best_params_"
   ]
  },
  {
   "cell_type": "code",
   "execution_count": 55,
   "id": "40311c28",
   "metadata": {},
   "outputs": [
    {
     "name": "stdout",
     "output_type": "stream",
     "text": [
      "R2 score for the Final Model is: 99.61289492395045\n"
     ]
    }
   ],
   "source": [
    "Final_model=LinearRegression(copy_X=True,fit_intercept=True, n_jobs=1, normalize=True)\n",
    "CLassifer=Final_model.fit(x_train,y_train)\n",
    "lr_pred=Final_model.predict(x_test)\n",
    "lr_r2_score = r2_score(y_test, lr_pred, multioutput='variance_weighted')\n",
    "print(f\"R2 score for the Final Model is:\", lr_r2_score*100)\n"
   ]
  },
  {
   "cell_type": "markdown",
   "id": "28e519e6",
   "metadata": {},
   "source": [
    "# Saving the Model(using pickle or joblib):"
   ]
  },
  {
   "cell_type": "code",
   "execution_count": 58,
   "id": "a5dd3c50",
   "metadata": {},
   "outputs": [],
   "source": [
    "filename='FinalModel_Happiness.pkl'\n",
    "pickle.dump(Final_model,open(fileame,'wb'))"
   ]
  },
  {
   "cell_type": "markdown",
   "id": "e6e62049",
   "metadata": {},
   "source": [
    "We have saved  our final model with the help of pickle method."
   ]
  },
  {
   "cell_type": "markdown",
   "id": "abe96cf7",
   "metadata": {},
   "source": [
    "# Loading The Model:"
   ]
  },
  {
   "cell_type": "code",
   "execution_count": 60,
   "id": "cf486d1b",
   "metadata": {},
   "outputs": [
    {
     "name": "stdout",
     "output_type": "stream",
     "text": [
      "99.61289492395045\n"
     ]
    }
   ],
   "source": [
    "load_model=pickle.load(open(filename,'rb'))\n",
    "result=load_model.score(x_test,y_test)*100\n",
    "print(result)"
   ]
  },
  {
   "cell_type": "markdown",
   "id": "cc52db0a",
   "metadata": {},
   "source": [
    "Finally I have loaded the saved model and passed the unseen data set to predict the model score."
   ]
  },
  {
   "cell_type": "code",
   "execution_count": null,
   "id": "2a79e2ce",
   "metadata": {},
   "outputs": [],
   "source": []
  }
 ],
 "metadata": {
  "kernelspec": {
   "display_name": "Python 3",
   "language": "python",
   "name": "python3"
  },
  "language_info": {
   "codemirror_mode": {
    "name": "ipython",
    "version": 3
   },
   "file_extension": ".py",
   "mimetype": "text/x-python",
   "name": "python",
   "nbconvert_exporter": "python",
   "pygments_lexer": "ipython3",
   "version": "3.8.8"
  }
 },
 "nbformat": 4,
 "nbformat_minor": 5
}
